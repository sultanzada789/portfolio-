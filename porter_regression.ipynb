{
 "cells": [
  {
   "cell_type": "markdown",
   "id": "9ec3bf99",
   "metadata": {},
   "source": [
    "# Logistic Regression Model for Delivery Prediction"
   ]
  },
  {
   "cell_type": "code",
   "execution_count": 2,
   "id": "14c1717a",
   "metadata": {},
   "outputs": [
    {
     "name": "stdout",
     "output_type": "stream",
     "text": [
      "              precision    recall  f1-score   support\n",
      "\n",
      "           0       0.82      0.98      0.89     31675\n",
      "           1       0.60      0.14      0.23      7810\n",
      "\n",
      "    accuracy                           0.81     39485\n",
      "   macro avg       0.71      0.56      0.56     39485\n",
      "weighted avg       0.78      0.81      0.76     39485\n",
      "\n"
     ]
    }
   ],
   "source": [
    "# Logistic Regression Model for Delivery Prediction\n",
    "\n",
    "import pandas as pd\n",
    "import numpy as np\n",
    "from sklearn.model_selection import train_test_split\n",
    "from sklearn.linear_model import LogisticRegression\n",
    "from sklearn.metrics import classification_report\n",
    "from sklearn.impute import SimpleImputer\n",
    "from sklearn.preprocessing import OneHotEncoder, StandardScaler\n",
    "from sklearn.pipeline import Pipeline\n",
    "from sklearn.compose import ColumnTransformer\n",
    "\n",
    "# Load dataset\n",
    "df = pd.read_csv(\"dataset.csv\")  # Replace with your actual file path\n",
    "\n",
    "# Convert datetime columns and calculate delivery duration\n",
    "df['created_at'] = pd.to_datetime(df['created_at'])\n",
    "df['actual_delivery_time'] = pd.to_datetime(df['actual_delivery_time'])\n",
    "df['delivery_duration'] = (df['actual_delivery_time'] - df['created_at']).dt.total_seconds()\n",
    "\n",
    "# Create binary target: 1 if delivery is late (> 1 hour), else 0\n",
    "df['is_late'] = (df['delivery_duration'] > 3600).astype(int)\n",
    "\n",
    "# Extract datetime features\n",
    "df['hour'] = df['created_at'].dt.hour\n",
    "df['day_of_week'] = df['created_at'].dt.dayofweek\n",
    "df['is_weekend'] = df['day_of_week'].isin([5, 6]).astype(int)\n",
    "\n",
    "# Drop rows with missing target or invalid durations\n",
    "df = df.dropna(subset=['delivery_duration', 'is_late'])\n",
    "\n",
    "# Define feature columns\n",
    "numeric_features = [\n",
    "    'order_protocol', 'total_items', 'subtotal', 'num_distinct_items',\n",
    "    'min_item_price', 'max_item_price', 'total_onshift_partners',\n",
    "    'total_busy_partners', 'total_outstanding_orders', 'hour', 'day_of_week', 'is_weekend'\n",
    "]\n",
    "categorical_features = ['market_id', 'store_primary_category']\n",
    "\n",
    "# Separate features and target\n",
    "X = df[numeric_features + categorical_features]\n",
    "y = df['is_late']\n",
    "\n",
    "# Define transformers\n",
    "numeric_transformer = Pipeline(steps=[\n",
    "    ('imputer', SimpleImputer(strategy='mean')),\n",
    "    ('scaler', StandardScaler())\n",
    "])\n",
    "categorical_transformer = Pipeline(steps=[\n",
    "    ('imputer', SimpleImputer(strategy='most_frequent')),\n",
    "    ('encoder', OneHotEncoder(handle_unknown='ignore'))\n",
    "])\n",
    "\n",
    "# Combine transformers\n",
    "preprocessor = ColumnTransformer(\n",
    "    transformers=[\n",
    "        ('num', numeric_transformer, numeric_features),\n",
    "        ('cat', categorical_transformer, categorical_features)\n",
    "    ]\n",
    ")\n",
    "\n",
    "# Create model pipeline\n",
    "clf = Pipeline(steps=[\n",
    "    ('preprocessor', preprocessor),\n",
    "    ('classifier', LogisticRegression(max_iter=1000))\n",
    "])\n",
    "\n",
    "# Split data\n",
    "X_train, X_test, y_train, y_test = train_test_split(X, y, test_size=0.2, random_state=42)\n",
    "\n",
    "# Train model\n",
    "clf.fit(X_train, y_train)\n",
    "\n",
    "# Predict and evaluate\n",
    "y_pred = clf.predict(X_test)\n",
    "report = classification_report(y_test, y_pred)\n",
    "print(report)\n"
   ]
  }
 ],
 "metadata": {
  "kernelspec": {
   "display_name": "ml_env",
   "language": "python",
   "name": "python3"
  },
  "language_info": {
   "codemirror_mode": {
    "name": "ipython",
    "version": 3
   },
   "file_extension": ".py",
   "mimetype": "text/x-python",
   "name": "python",
   "nbconvert_exporter": "python",
   "pygments_lexer": "ipython3",
   "version": "3.9.19"
  }
 },
 "nbformat": 4,
 "nbformat_minor": 5
}
